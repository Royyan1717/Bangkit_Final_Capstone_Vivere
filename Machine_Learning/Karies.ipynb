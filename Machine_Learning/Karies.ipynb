{
  "nbformat": 4,
  "nbformat_minor": 0,
  "metadata": {
    "colab": {
      "name": "Karies.ipynb",
      "provenance": [],
      "collapsed_sections": []
    },
    "kernelspec": {
      "name": "python3",
      "display_name": "Python 3"
    },
    "language_info": {
      "name": "python"
    }
  },
  "cells": [
    {
      "cell_type": "markdown",
      "metadata": {
        "id": "HxTIcgUcMf4N"
      },
      "source": [
        "References:\n",
        "https://drive.google.com/drive/folders/1ysYFAvZQmwQ4dX3TT0r2ygYGDe64bycY?usp=sharing\n",
        "https://www.coursera.org/learn/convolutional-neural-networks-tensorflow/lecture/QE6Iw/working-through-the-notebook\n",
        "https://www.coursera.org/learn/introduction-tensorflow/lecture/PjlKf/implementing-convolutional-layers \n",
        "https://colab.research.google.com/github/lmoroney/dlaicourse/blob/master/Course%202%20-%20Part%202%20-%20Lesson%202%20-%20Notebook.ipynb#scrollTo=Wpr8GxjOU8in "
      ]
    },
    {
      "cell_type": "code",
      "metadata": {
        "id": "_nOBuV_qL8P_"
      },
      "source": [
        "import tensorflow as tf\n",
        "from tensorflow.keras.preprocessing.image import ImageDataGenerator\n",
        "from tensorflow.keras.optimizers import RMSprop\n",
        "import numpy as np\n",
        "from google.colab import files\n",
        "from keras.preprocessing import image\n",
        "import os"
      ],
      "execution_count": 25,
      "outputs": []
    },
    {
      "cell_type": "markdown",
      "metadata": {
        "id": "ITBorqqbMUvz"
      },
      "source": [
        "###Mount Google Drive"
      ]
    },
    {
      "cell_type": "code",
      "metadata": {
        "colab": {
          "base_uri": "https://localhost:8080/"
        },
        "id": "0da7ARZJGMC4",
        "outputId": "3438651f-aba4-48b2-ac48-c52888830bfd"
      },
      "source": [
        "from google.colab import drive\n",
        "drive.mount('/content/drive/')"
      ],
      "execution_count": 52,
      "outputs": [
        {
          "output_type": "stream",
          "text": [
            "Drive already mounted at /content/drive/; to attempt to forcibly remount, call drive.mount(\"/content/drive/\", force_remount=True).\n"
          ],
          "name": "stdout"
        }
      ]
    },
    {
      "cell_type": "code",
      "metadata": {
        "id": "FyxZQZEMGMA0"
      },
      "source": [
        "train_dir = \"/content/drive/MyDrive/Bangkit Final Project Files/Dataset/Training/Training_den\"\n",
        "validation_dir =  \"/content/drive/MyDrive/Bangkit Final Project Files/Dataset/Validation\"\n",
        "\n",
        "#train_yes_dir = '/content/drive/MyDrive/Bangkit Final Project Files/Dataset/Training/Yes'\n",
        "#train_no_dir = '/content/drive/MyDrive/Bangkit Final Project Files/Dataset/Training/No'\n",
        "#validation_yes_dir = '/content/drive/MyDrive/Bangkit Final Project Files/Dataset/Validation/Yes'\n",
        "#validation_no_dir = '/content/drive/MyDrive/Bangkit Final Project Files/Dataset/Validation/No'\n",
        "\n",
        "#train_yes_fnames = os.listdir( train_yes_dir )\n",
        "#train_no_fnames = os.listdir( train_no_dir )"
      ],
      "execution_count": 53,
      "outputs": []
    },
    {
      "cell_type": "code",
      "metadata": {
        "id": "9onfzFVGWxZl"
      },
      "source": [
        "#os.mkdir(\"Dataset/Training/Training_den\")"
      ],
      "execution_count": 43,
      "outputs": []
    },
    {
      "cell_type": "code",
      "metadata": {
        "colab": {
          "base_uri": "https://localhost:8080/"
        },
        "id": "ectJlry5XAfA",
        "outputId": "b9542949-d48b-48a8-bf8b-fe38e428ff75"
      },
      "source": [
        "#path that contains folder you want to copy\n",
        "#%cd /content/drive/MyDrive/Bangkit Final Project Files/Dataset/Training\n",
        "#%cp -av Yes/ Caries_Copy"
      ],
      "execution_count": 47,
      "outputs": [
        {
          "output_type": "stream",
          "text": [
            "/content/drive/.shortcut-targets-by-id/1vt7nUPkyCSu1u7upacmsHpjYl3SHjXgt/Bangkit Final Project Files/Dataset/Training\n",
            "'Yes/' -> 'Caries_Copy'\n",
            "'Yes/yes.025.tif' -> 'Caries_Copy/yes.025.tif'\n",
            "'Yes/yes.400.jpg' -> 'Caries_Copy/yes.400.jpg'\n",
            "'Yes/yes.401.jpg' -> 'Caries_Copy/yes.401.jpg'\n",
            "'Yes/yes.402.jpg' -> 'Caries_Copy/yes.402.jpg'\n",
            "'Yes/yes.403.jpg' -> 'Caries_Copy/yes.403.jpg'\n",
            "'Yes/yes.002.jpg' -> 'Caries_Copy/yes.002.jpg'\n",
            "'Yes/yes.001.jpg' -> 'Caries_Copy/yes.001.jpg'\n",
            "'Yes/yes.003.jpg' -> 'Caries_Copy/yes.003.jpg'\n",
            "'Yes/yes.004.jpg' -> 'Caries_Copy/yes.004.jpg'\n",
            "'Yes/yes.005.jpg' -> 'Caries_Copy/yes.005.jpg'\n",
            "'Yes/yes.006.jpg' -> 'Caries_Copy/yes.006.jpg'\n",
            "'Yes/yes.007.jpg' -> 'Caries_Copy/yes.007.jpg'\n",
            "'Yes/yes.008.jpg' -> 'Caries_Copy/yes.008.jpg'\n",
            "'Yes/yes.009.jpg' -> 'Caries_Copy/yes.009.jpg'\n",
            "'Yes/yes.010.jpg' -> 'Caries_Copy/yes.010.jpg'\n",
            "'Yes/yes.011.jpg' -> 'Caries_Copy/yes.011.jpg'\n",
            "'Yes/yes.012.jpg' -> 'Caries_Copy/yes.012.jpg'\n",
            "'Yes/yes.013.jpg' -> 'Caries_Copy/yes.013.jpg'\n",
            "'Yes/yes.014.jpg' -> 'Caries_Copy/yes.014.jpg'\n",
            "'Yes/yes.015.jfif' -> 'Caries_Copy/yes.015.jfif'\n",
            "'Yes/yes.016.jfif' -> 'Caries_Copy/yes.016.jfif'\n",
            "'Yes/yes.017.jfif' -> 'Caries_Copy/yes.017.jfif'\n",
            "'Yes/yes.018.jpg' -> 'Caries_Copy/yes.018.jpg'\n",
            "'Yes/yes.019.jpg' -> 'Caries_Copy/yes.019.jpg'\n",
            "'Yes/yes.020.png' -> 'Caries_Copy/yes.020.png'\n",
            "'Yes/yes.021.png' -> 'Caries_Copy/yes.021.png'\n",
            "'Yes/yes.022.jpg' -> 'Caries_Copy/yes.022.jpg'\n",
            "'Yes/yes.023.jpg' -> 'Caries_Copy/yes.023.jpg'\n",
            "'Yes/yes.024.jpg' -> 'Caries_Copy/yes.024.jpg'\n",
            "'Yes/yes.201.jpg' -> 'Caries_Copy/yes.201.jpg'\n",
            "'Yes/yes.202.jpg' -> 'Caries_Copy/yes.202.jpg'\n",
            "'Yes/yes.203.jpg' -> 'Caries_Copy/yes.203.jpg'\n",
            "'Yes/yes.204.jpg' -> 'Caries_Copy/yes.204.jpg'\n",
            "'Yes/yes.206.jpg' -> 'Caries_Copy/yes.206.jpg'\n",
            "'Yes/yes.208.jpg' -> 'Caries_Copy/yes.208.jpg'\n",
            "'Yes/yes.209.jpg' -> 'Caries_Copy/yes.209.jpg'\n",
            "'Yes/yes.210.jpg' -> 'Caries_Copy/yes.210.jpg'\n",
            "'Yes/yes.211.jpg' -> 'Caries_Copy/yes.211.jpg'\n",
            "'Yes/yes.212.jpg' -> 'Caries_Copy/yes.212.jpg'\n",
            "'Yes/yes.213.jpg' -> 'Caries_Copy/yes.213.jpg'\n",
            "'Yes/yes.205.jpg' -> 'Caries_Copy/yes.205.jpg'\n",
            "'Yes/yes.207.jpg' -> 'Caries_Copy/yes.207.jpg'\n",
            "'Yes/yes.026.tif' -> 'Caries_Copy/yes.026.tif'\n",
            "'Yes/yes.028.tif' -> 'Caries_Copy/yes.028.tif'\n",
            "'Yes/yes.027.tif' -> 'Caries_Copy/yes.027.tif'\n",
            "'Yes/yes.029.jfif' -> 'Caries_Copy/yes.029.jfif'\n",
            "'Yes/yes.030.jfif' -> 'Caries_Copy/yes.030.jfif'\n",
            "'Yes/yes.031.jfif' -> 'Caries_Copy/yes.031.jfif'\n",
            "'Yes/yes.032.jfif' -> 'Caries_Copy/yes.032.jfif'\n",
            "'Yes/yes.033.jfif' -> 'Caries_Copy/yes.033.jfif'\n",
            "'Yes/yes.034.jfif' -> 'Caries_Copy/yes.034.jfif'\n",
            "'Yes/yes.035.jfif' -> 'Caries_Copy/yes.035.jfif'\n",
            "'Yes/yes.036.jfif' -> 'Caries_Copy/yes.036.jfif'\n",
            "'Yes/yes.037.jfif' -> 'Caries_Copy/yes.037.jfif'\n",
            "'Yes/yes.038.jfif' -> 'Caries_Copy/yes.038.jfif'\n",
            "'Yes/yes.039.jfif' -> 'Caries_Copy/yes.039.jfif'\n",
            "'Yes/yes.040.jfif' -> 'Caries_Copy/yes.040.jfif'\n"
          ],
          "name": "stdout"
        }
      ]
    },
    {
      "cell_type": "code",
      "metadata": {
        "id": "kSld4ivhPDAA"
      },
      "source": [
        "#print('total training yes images :', len(os.listdir( train_yes_dir ) ))\n",
        "#print('total training no images :', len(os.listdir( train_no_dir ) ))\n",
        "#print('total validation yes images: ', len(os.listdir(validation_yes_dir)))\n",
        "#print('total validation no images: ', len(os.listdir(validation_no_dir)))"
      ],
      "execution_count": null,
      "outputs": []
    },
    {
      "cell_type": "markdown",
      "metadata": {
        "id": "mfID9oKdb5J3"
      },
      "source": [
        "###Augmentation"
      ]
    },
    {
      "cell_type": "code",
      "metadata": {
        "colab": {
          "base_uri": "https://localhost:8080/"
        },
        "id": "3dBmu2qJkmd-",
        "outputId": "f257f11f-ebba-415f-df13-337883555b01"
      },
      "source": [
        "# All images will be rescaled by 1./255.\n",
        "#train_datagen = ImageDataGenerator( rescale = 1.0/255. )\n",
        "#test_datagen  = ImageDataGenerator( rescale = 1.0/255. )\n",
        "\n",
        "#Augmentation\n",
        "train_datagen = ImageDataGenerator(\n",
        "      rescale=1./255,\n",
        "      rotation_range=40,\n",
        "      width_shift_range=0.2,\n",
        "      height_shift_range=0.2,\n",
        "      shear_range=0.2,\n",
        "      zoom_range=0.2,\n",
        "      horizontal_flip=True,\n",
        "      fill_mode='nearest')\n",
        "\n",
        "test_datagen = ImageDataGenerator(rescale=1./255)\n",
        "\n",
        "train_generator = train_datagen.flow_from_directory(train_dir,\n",
        "                                                    batch_size=3,\n",
        "                                                    class_mode='binary',\n",
        "                                                    target_size=(150, 150))     \n",
        "\n",
        "\n",
        "validation_generator =  test_datagen.flow_from_directory(validation_dir,\n",
        "                                                         batch_size=3,\n",
        "                                                         class_mode  = 'binary',\n",
        "                                                         target_size = (150, 150))\n"
      ],
      "execution_count": 56,
      "outputs": [
        {
          "output_type": "stream",
          "text": [
            "Found 93 images belonging to 2 classes.\n",
            "Found 48 images belonging to 2 classes.\n"
          ],
          "name": "stdout"
        }
      ]
    },
    {
      "cell_type": "markdown",
      "metadata": {
        "id": "M3prrG1ob8UI"
      },
      "source": [
        "###Modeling"
      ]
    },
    {
      "cell_type": "code",
      "metadata": {
        "id": "CnXe6Oxtineg"
      },
      "source": [
        "model = tf.keras.models.Sequential([\n",
        "    # Note the input shape is the desired size of the image 150x150 with 3 bytes color\n",
        "    tf.keras.layers.Conv2D(16, (3,3), activation='relu', input_shape=(150, 150, 3)),\n",
        "    tf.keras.layers.MaxPooling2D(2,2),\n",
        "    tf.keras.layers.Conv2D(32, (3,3), activation='relu'),\n",
        "    tf.keras.layers.MaxPooling2D(2,2), \n",
        "    tf.keras.layers.Conv2D(64, (3,3), activation='relu'), \n",
        "    tf.keras.layers.MaxPooling2D(2,2),\n",
        "    # Flatten the results to feed into a DNN\n",
        "    tf.keras.layers.Flatten(), \n",
        "    # 512 neuron hidden layer\n",
        "    tf.keras.layers.Dense(512, activation='relu'), \n",
        "    # Only 1 output neuron. It will contain a value from 0-1 where 0 for 1 class ('cats') and 1 for the other ('dogs')\n",
        "    tf.keras.layers.Dense(1, activation='sigmoid')  \n",
        "])"
      ],
      "execution_count": 57,
      "outputs": []
    },
    {
      "cell_type": "code",
      "metadata": {
        "colab": {
          "base_uri": "https://localhost:8080/"
        },
        "id": "pwIwCb_Liple",
        "outputId": "cd4d27a3-ecbd-4ef2-e178-10ec8c27fb6a"
      },
      "source": [
        "model.summary()"
      ],
      "execution_count": 58,
      "outputs": [
        {
          "output_type": "stream",
          "text": [
            "Model: \"sequential_4\"\n",
            "_________________________________________________________________\n",
            "Layer (type)                 Output Shape              Param #   \n",
            "=================================================================\n",
            "conv2d_12 (Conv2D)           (None, 148, 148, 16)      448       \n",
            "_________________________________________________________________\n",
            "max_pooling2d_12 (MaxPooling (None, 74, 74, 16)        0         \n",
            "_________________________________________________________________\n",
            "conv2d_13 (Conv2D)           (None, 72, 72, 32)        4640      \n",
            "_________________________________________________________________\n",
            "max_pooling2d_13 (MaxPooling (None, 36, 36, 32)        0         \n",
            "_________________________________________________________________\n",
            "conv2d_14 (Conv2D)           (None, 34, 34, 64)        18496     \n",
            "_________________________________________________________________\n",
            "max_pooling2d_14 (MaxPooling (None, 17, 17, 64)        0         \n",
            "_________________________________________________________________\n",
            "flatten_4 (Flatten)          (None, 18496)             0         \n",
            "_________________________________________________________________\n",
            "dense_8 (Dense)              (None, 512)               9470464   \n",
            "_________________________________________________________________\n",
            "dense_9 (Dense)              (None, 1)                 513       \n",
            "=================================================================\n",
            "Total params: 9,494,561\n",
            "Trainable params: 9,494,561\n",
            "Non-trainable params: 0\n",
            "_________________________________________________________________\n"
          ],
          "name": "stdout"
        }
      ]
    },
    {
      "cell_type": "code",
      "metadata": {
        "id": "K9OU0xoUkSyI"
      },
      "source": [
        "model.compile(optimizer=RMSprop(lr=0.001),\n",
        "              loss='binary_crossentropy',\n",
        "              metrics = ['accuracy'])"
      ],
      "execution_count": 39,
      "outputs": []
    },
    {
      "cell_type": "code",
      "metadata": {
        "colab": {
          "base_uri": "https://localhost:8080/"
        },
        "id": "iMt1o9IEmaA5",
        "outputId": "28e592f0-9c27-4a9a-c0b4-3bf7759cd6ee"
      },
      "source": [
        "history = model.fit(train_generator,\n",
        "                              validation_data=validation_generator,\n",
        "                              steps_per_epoch=31,\n",
        "                              epochs=30,\n",
        "                              validation_steps=16)\n",
        "                              #verbose=2)"
      ],
      "execution_count": null,
      "outputs": [
        {
          "output_type": "stream",
          "text": [
            "Epoch 1/30\n",
            "31/31 [==============================] - 12s 386ms/step - loss: 0.5609 - accuracy: 0.7527 - val_loss: 1.3755 - val_accuracy: 0.5625\n",
            "Epoch 2/30\n",
            "31/31 [==============================] - 12s 389ms/step - loss: 0.6156 - accuracy: 0.7419 - val_loss: 0.5493 - val_accuracy: 0.7500\n",
            "Epoch 3/30\n",
            "31/31 [==============================] - 12s 389ms/step - loss: 0.5017 - accuracy: 0.8065 - val_loss: 0.5141 - val_accuracy: 0.7500\n",
            "Epoch 4/30\n",
            "31/31 [==============================] - 12s 387ms/step - loss: 0.4991 - accuracy: 0.7957 - val_loss: 0.4993 - val_accuracy: 0.7708\n",
            "Epoch 5/30\n",
            "31/31 [==============================] - 12s 386ms/step - loss: 0.5099 - accuracy: 0.7634 - val_loss: 0.6909 - val_accuracy: 0.7292\n",
            "Epoch 6/30\n",
            "31/31 [==============================] - 12s 373ms/step - loss: 0.4853 - accuracy: 0.7957 - val_loss: 1.8851 - val_accuracy: 0.5417\n",
            "Epoch 7/30\n",
            "31/31 [==============================] - 12s 386ms/step - loss: 0.5369 - accuracy: 0.7957 - val_loss: 0.5298 - val_accuracy: 0.6875\n",
            "Epoch 8/30\n",
            "31/31 [==============================] - 12s 373ms/step - loss: 0.5551 - accuracy: 0.7957 - val_loss: 0.6227 - val_accuracy: 0.7083\n",
            "Epoch 9/30\n",
            "31/31 [==============================] - 12s 385ms/step - loss: 0.4704 - accuracy: 0.7957 - val_loss: 0.6425 - val_accuracy: 0.7083\n",
            "Epoch 10/30\n",
            "31/31 [==============================] - 12s 385ms/step - loss: 0.4509 - accuracy: 0.7527 - val_loss: 0.7256 - val_accuracy: 0.7292\n",
            "Epoch 11/30\n",
            "31/31 [==============================] - 12s 382ms/step - loss: 0.4783 - accuracy: 0.8172 - val_loss: 0.6021 - val_accuracy: 0.7292\n",
            "Epoch 12/30\n",
            "31/31 [==============================] - 12s 386ms/step - loss: 0.4264 - accuracy: 0.8172 - val_loss: 0.6040 - val_accuracy: 0.7292\n",
            "Epoch 13/30\n",
            "31/31 [==============================] - 12s 387ms/step - loss: 0.4321 - accuracy: 0.8065 - val_loss: 0.7665 - val_accuracy: 0.7083\n",
            "Epoch 14/30\n",
            "31/31 [==============================] - 12s 375ms/step - loss: 0.4744 - accuracy: 0.7957 - val_loss: 0.5716 - val_accuracy: 0.7917\n",
            "Epoch 15/30\n",
            "31/31 [==============================] - 12s 378ms/step - loss: 0.4460 - accuracy: 0.7957 - val_loss: 0.5063 - val_accuracy: 0.7708\n",
            "Epoch 16/30\n",
            "31/31 [==============================] - 12s 380ms/step - loss: 0.3423 - accuracy: 0.8387 - val_loss: 1.1944 - val_accuracy: 0.6667\n",
            "Epoch 17/30\n",
            "31/31 [==============================] - 12s 384ms/step - loss: 0.3906 - accuracy: 0.8280 - val_loss: 0.9606 - val_accuracy: 0.7292\n",
            "Epoch 18/30\n",
            "31/31 [==============================] - 12s 384ms/step - loss: 0.4022 - accuracy: 0.8065 - val_loss: 0.7235 - val_accuracy: 0.8125\n",
            "Epoch 19/30\n",
            "31/31 [==============================] - 12s 378ms/step - loss: 0.4210 - accuracy: 0.8387 - val_loss: 0.5167 - val_accuracy: 0.8333\n",
            "Epoch 20/30\n",
            "31/31 [==============================] - 12s 385ms/step - loss: 0.4254 - accuracy: 0.8172 - val_loss: 0.8865 - val_accuracy: 0.7708\n",
            "Epoch 21/30\n",
            "31/31 [==============================] - 12s 377ms/step - loss: 0.3306 - accuracy: 0.8710 - val_loss: 0.8159 - val_accuracy: 0.7292\n",
            "Epoch 22/30\n",
            "31/31 [==============================] - 12s 391ms/step - loss: 0.4250 - accuracy: 0.8065 - val_loss: 0.5151 - val_accuracy: 0.8333\n",
            "Epoch 23/30\n",
            "31/31 [==============================] - 12s 384ms/step - loss: 0.4509 - accuracy: 0.7849 - val_loss: 0.5621 - val_accuracy: 0.7292\n",
            "Epoch 24/30\n",
            "31/31 [==============================] - 23s 742ms/step - loss: 0.3619 - accuracy: 0.8602 - val_loss: 0.7150 - val_accuracy: 0.7292\n",
            "Epoch 25/30\n",
            "31/31 [==============================] - 18s 570ms/step - loss: 0.4652 - accuracy: 0.8065 - val_loss: 0.6186 - val_accuracy: 0.8333\n",
            "Epoch 26/30\n",
            "31/31 [==============================] - 12s 406ms/step - loss: 0.3239 - accuracy: 0.8817 - val_loss: 0.5970 - val_accuracy: 0.7708\n",
            "Epoch 27/30\n",
            "31/31 [==============================] - 12s 389ms/step - loss: 0.3465 - accuracy: 0.8495 - val_loss: 0.4880 - val_accuracy: 0.7917\n",
            "Epoch 28/30\n",
            "31/31 [==============================] - 12s 375ms/step - loss: 0.3858 - accuracy: 0.8280 - val_loss: 0.5465 - val_accuracy: 0.8125\n",
            "Epoch 29/30\n",
            "31/31 [==============================] - 12s 389ms/step - loss: 0.2862 - accuracy: 0.8710 - val_loss: 0.8314 - val_accuracy: 0.7500\n",
            "Epoch 30/30\n",
            "31/31 [==============================] - 12s 392ms/step - loss: 0.5799 - accuracy: 0.8280 - val_loss: 0.6076 - val_accuracy: 0.7292\n"
          ],
          "name": "stdout"
        }
      ]
    },
    {
      "cell_type": "markdown",
      "metadata": {
        "id": "QYm3_8sdcAnX"
      },
      "source": [
        "###Testing"
      ]
    },
    {
      "cell_type": "code",
      "metadata": {
        "colab": {
          "resources": {
            "http://localhost:8080/nbextensions/google.colab/files.js": {
              "data": "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",
              "ok": true,
              "headers": [
                [
                  "content-type",
                  "application/javascript"
                ]
              ],
              "status": 200,
              "status_text": ""
            }
          },
          "base_uri": "https://localhost:8080/",
          "height": 108
        },
        "id": "myZmSdH70qXH",
        "outputId": "e33f9131-2b0f-46f9-b867-ae46f05175dc"
      },
      "source": [
        "uploaded=files.upload()\n",
        "\n",
        "for fn in uploaded.keys():\n",
        " \n",
        "  # predicting images\n",
        "  path='/content/' + fn\n",
        "  img=image.load_img(path, target_size=(150, 150))\n",
        "  \n",
        "  x=image.img_to_array(img)\n",
        "  x=np.expand_dims(x, axis=0)\n",
        "  images = np.vstack([x])\n",
        "  \n",
        "  classes = model.predict(images, batch_size=10)\n",
        "  \n",
        "  print(classes)\n",
        "  \n",
        "  if classes[0]>0:\n",
        "    print(\"Caries are founded.\")\n",
        "    \n",
        "  else:\n",
        "    print(\"The teeth are healthy.\")\n",
        " "
      ],
      "execution_count": null,
      "outputs": [
        {
          "output_type": "display_data",
          "data": {
            "text/html": [
              "\n",
              "     <input type=\"file\" id=\"files-b76e8895-f55f-42a6-9279-dfbc7742c4aa\" name=\"files[]\" multiple disabled\n",
              "        style=\"border:none\" />\n",
              "     <output id=\"result-b76e8895-f55f-42a6-9279-dfbc7742c4aa\">\n",
              "      Upload widget is only available when the cell has been executed in the\n",
              "      current browser session. Please rerun this cell to enable.\n",
              "      </output>\n",
              "      <script src=\"/nbextensions/google.colab/files.js\"></script> "
            ],
            "text/plain": [
              "<IPython.core.display.HTML object>"
            ]
          },
          "metadata": {
            "tags": []
          }
        },
        {
          "output_type": "stream",
          "text": [
            "Saving 12A1268D-02D9-494B-9D6E-5AF277C80C86.jpg to 12A1268D-02D9-494B-9D6E-5AF277C80C86.jpg\n",
            "[[0.]]\n",
            "The teeth are healthy.\n"
          ],
          "name": "stdout"
        }
      ]
    },
    {
      "cell_type": "markdown",
      "metadata": {
        "id": "DNp6NHVFcDzY"
      },
      "source": [
        "###Model evaluation"
      ]
    },
    {
      "cell_type": "code",
      "metadata": {
        "colab": {
          "base_uri": "https://localhost:8080/",
          "height": 563
        },
        "id": "c_OAnGIR2dHi",
        "outputId": "33aaa0b1-3e78-4020-8f7f-cebeb7fd0587"
      },
      "source": [
        "#-----------------------------------------------------------\n",
        "# Retrieve a list of list results on training and test data\n",
        "# sets for each training epoch\n",
        "#-----------------------------------------------------------\n",
        "acc      = history.history[     'accuracy' ]\n",
        "val_acc  = history.history[ 'val_accuracy' ]\n",
        "loss     = history.history[    'loss' ]\n",
        "val_loss = history.history['val_loss' ]\n",
        "\n",
        "epochs   = range(len(acc)) # Get number of epochs\n",
        "\n",
        "#------------------------------------------------\n",
        "# Plot training and validation accuracy per epoch\n",
        "#------------------------------------------------\n",
        "plt.plot  ( epochs,     acc )\n",
        "plt.plot  ( epochs, val_acc )\n",
        "plt.title ('Training and validation accuracy')\n",
        "plt.figure()\n",
        "\n",
        "#------------------------------------------------\n",
        "# Plot training and validation loss per epoch\n",
        "#------------------------------------------------\n",
        "plt.plot  ( epochs,     loss )\n",
        "plt.plot  ( epochs, val_loss )\n",
        "plt.title ('Training and validation loss'   )"
      ],
      "execution_count": null,
      "outputs": [
        {
          "output_type": "execute_result",
          "data": {
            "text/plain": [
              "Text(0.5, 1.0, 'Training and validation loss')"
            ]
          },
          "metadata": {
            "tags": []
          },
          "execution_count": 66
        },
        {
          "output_type": "display_data",
          "data": {
            "image/png": "[encoded data removed]",
            "text/plain": [
              "<Figure size 432x288 with 1 Axes>"
            ]
          },
          "metadata": {
            "tags": [],
            "needs_background": "light"
          }
        },
        {
          "output_type": "display_data",
          "data": {
            "image/png": "[encoded data removed]",
            "text/plain": [
              "<Figure size 432x288 with 1 Axes>"
            ]
          },
          "metadata": {
            "tags": [],
            "needs_background": "light"
          }
        }
      ]
    }
  ]
}